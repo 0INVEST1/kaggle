{
 "cells": [
  {
   "cell_type": "markdown",
   "metadata": {},
   "source": [
    "\n",
    "# 1.导入需要的库\n",
    "## 1.1.导入一些必要的库，如pandas、numpy、matplotlib、sklearn\n",
    "## 1.2.导入keras（tensorflow backend），用来搭建神经网络"
   ]
  },
  {
   "cell_type": "code",
   "execution_count": 1,
   "metadata": {},
   "outputs": [
    {
     "name": "stderr",
     "output_type": "stream",
     "text": [
      "Using TensorFlow backend.\n"
     ]
    }
   ],
   "source": [
    "import pandas as pd\n",
    "import numpy as np\n",
    "import matplotlib.pyplot as plt\n",
    "import matplotlib.image as mpimg\n",
    "import seaborn as sns\n",
    "#将那些用matplotlib绘制的图显示在页面里而不是弹出一个窗口\n",
    "%matplotlib inline   \n",
    "\n",
    "np.random.seed(2)\n",
    "\n",
    "from sklearn.model_selection import train_test_split\n",
    "from sklearn.metrics import confusion_matrix\n",
    "import itertools\n",
    "\n",
    "from keras.utils.np_utils import to_categorical # 转换成 one-hot-encoding\n",
    "from keras.models import Sequential\n",
    "from keras.layers import Dense, Dropout, Flatten, Conv2D, MaxPool2D\n",
    "from keras.optimizers import adam, RMSprop\n",
    "from keras.preprocessing.image import ImageDataGenerator\n",
    "from keras.callbacks import ReduceLROnPlateau"
   ]
  },
  {
   "cell_type": "markdown",
   "metadata": {},
   "source": [
    "# 2.数据准备工作\n",
    "## 2.1.导入数据"
   ]
  },
  {
   "cell_type": "code",
   "execution_count": 3,
   "metadata": {
    "collapsed": true
   },
   "outputs": [],
   "source": [
    "# Load the data\n",
    "train = pd.read_csv(r'''/home/cd/kaggle-master/datasets/getting-started/digit-recognizer/input/train.csv''')\n",
    "test = pd.read_csv(r'''/home/cd/kaggle-master/datasets/getting-started/digit-recognizer/input/test.csv''')\n",
    "\n",
    "X_train = train.values[:,1:]\n",
    "Y_train = train.values[:,0]\n",
    "test=test.values"
   ]
  },
  {
   "cell_type": "markdown",
   "metadata": {},
   "source": [
    "## 2.2.标准化"
   ]
  },
  {
   "cell_type": "code",
   "execution_count": 4,
   "metadata": {
    "collapsed": true
   },
   "outputs": [],
   "source": [
    "# Normalization\n",
    "X_train = X_train / 255.0\n",
    "test = test / 255.0"
   ]
  },
  {
   "cell_type": "markdown",
   "metadata": {},
   "source": [
    "## 2.3.将数组维度变成（28，28，1）\n",
    "### 之前用pandas导入数据的时候会将数据变成一维数组"
   ]
  },
  {
   "cell_type": "code",
   "execution_count": 5,
   "metadata": {
    "collapsed": true
   },
   "outputs": [],
   "source": [
    "X_train = X_train.reshape(-1,28,28,1)\n",
    "test = test.reshape(-1,28,28,1)"
   ]
  },
  {
   "cell_type": "markdown",
   "metadata": {},
   "source": [
    "## 2.4.将标签编码为one-hot编码\n",
    "### 如：2 -> [0,0,1,0,0,0,0,0,0,0]            \n",
    "###        7 -> [0,0,0,0,0,0,0,1,0,0]\n"
   ]
  },
  {
   "cell_type": "code",
   "execution_count": 6,
   "metadata": {
    "collapsed": true
   },
   "outputs": [],
   "source": [
    "Y_train = to_categorical(Y_train, num_classes = 10)"
   ]
  },
  {
   "cell_type": "markdown",
   "metadata": {},
   "source": [
    "## 2.5.将训练集随机划分成训练集和验证集\n",
    "### 设置随机数种子"
   ]
  },
  {
   "cell_type": "code",
   "execution_count": 7,
   "metadata": {
    "collapsed": true
   },
   "outputs": [],
   "source": [
    "random_seed = 2"
   ]
  },
  {
   "cell_type": "code",
   "execution_count": 8,
   "metadata": {
    "collapsed": true
   },
   "outputs": [],
   "source": [
    "X_train, X_val, Y_train, Y_val = train_test_split(X_train, Y_train, test_size = 0.1, random_state=random_seed)"
   ]
  },
  {
   "cell_type": "markdown",
   "metadata": {},
   "source": [
    "# 3.CNN\n",
    "## 3.1.定义cnn模型\n",
    "### cnn结构为[[Conv2D->relu]*2 -> MaxPool2D -> Dropout]*2 -> Flatten -> Dense -> Dropout -> Out"
   ]
  },
  {
   "cell_type": "code",
   "execution_count": 9,
   "metadata": {
    "collapsed": true
   },
   "outputs": [],
   "source": [
    "model = Sequential()\n",
    "\n",
    "model.add(Conv2D(filters = 32, kernel_size = (5,5),padding = 'Same', \n",
    "                 activation ='relu', input_shape = (28,28,1)))\n",
    "model.add(Conv2D(filters = 32, kernel_size = (5,5),padding = 'Same', \n",
    "                 activation ='relu'))\n",
    "model.add(MaxPool2D(pool_size=(2,2)))\n",
    "model.add(Dropout(0.25))\n",
    "\n",
    "\n",
    "model.add(Conv2D(filters = 64, kernel_size = (3,3),padding = 'Same', \n",
    "                 activation ='relu'))\n",
    "model.add(Conv2D(filters = 64, kernel_size = (3,3),padding = 'Same', \n",
    "                 activation ='relu'))\n",
    "model.add(MaxPool2D(pool_size=(2,2), strides=(2,2)))\n",
    "model.add(Dropout(0.25))\n",
    "\n",
    "\n",
    "model.add(Flatten())\n",
    "model.add(Dense(256, activation = \"relu\"))\n",
    "model.add(Dropout(0.5))\n",
    "model.add(Dense(10, activation = \"softmax\"))\n"
   ]
  },
  {
   "cell_type": "markdown",
   "metadata": {},
   "source": [
    "## 3.2.设置优化器\n",
    "### 优化算法选用自适应学习率算法\n",
    "[RMSprop](http://blog.csdn.net/bvl10101111/article/details/72616378)\n",
    "### 选择默认参数"
   ]
  },
  {
   "cell_type": "code",
   "execution_count": 10,
   "metadata": {
    "collapsed": true
   },
   "outputs": [],
   "source": [
    "# Define the optimizer\n",
    "optimizer = RMSprop(lr=0.001, rho=0.9, epsilon=1e-08, decay=0.0)"
   ]
  },
  {
   "cell_type": "markdown",
   "metadata": {},
   "source": [
    "## 3.3.编译模型\n",
    "### 优化算法选择RMSprop\n",
    "### 损失函数选择categorical_crossentropy，亦称作多类的对数损失\n",
    "### 性能评估方法选择准确率"
   ]
  },
  {
   "cell_type": "code",
   "execution_count": 11,
   "metadata": {
    "collapsed": true
   },
   "outputs": [],
   "source": [
    "# Compile the model\n",
    "model.compile(optimizer = optimizer , loss = \"categorical_crossentropy\", metrics=[\"accuracy\"])"
   ]
  },
  {
   "cell_type": "code",
   "execution_count": 12,
   "metadata": {
    "collapsed": true
   },
   "outputs": [],
   "source": [
    "epochs = 30 \n",
    "batch_size = 86"
   ]
  },
  {
   "cell_type": "markdown",
   "metadata": {},
   "source": [
    "### 设置学习率退火器\n",
    "### *当评价指标不在提升时，减少学习率\n",
    "### *监测量是val_acc，当3个epoch过去而模型性能不提升时，学习率减少的动作会触发\n",
    "### *factor：每次减少学习率的因子，学习率将以lr = lr×factor的形式被减少\n",
    "### *min_lr：学习率的下限\n",
    "\n",
    "### *回调函数是一组在训练的特定阶段被调用的函数集，你可以使用回调函数来观察训练过程中网络内部的状态和统计信息。"
   ]
  },
  {
   "cell_type": "code",
   "execution_count": 13,
   "metadata": {
    "collapsed": true
   },
   "outputs": [],
   "source": [
    "# Set a learning rate annealer\n",
    "learning_rate_reduction = ReduceLROnPlateau(monitor='val_acc', \n",
    "                                            patience=3, \n",
    "                                            verbose=1, \n",
    "                                            factor=0.5, \n",
    "                                            min_lr=0.00001)"
   ]
  },
  {
   "cell_type": "markdown",
   "metadata": {},
   "source": [
    "## 3.4.设置图片生成器\n",
    "### 用以生成一个batch的图像数据，支持实时数据提升。训练时该函数会无限生成数据，直到达到规定的epoch次数为止。"
   ]
  },
  {
   "cell_type": "code",
   "execution_count": 14,
   "metadata": {
    "collapsed": true
   },
   "outputs": [],
   "source": [
    "datagen = ImageDataGenerator(\n",
    "        featurewise_center=False,  # 使输入数据集去中心化（均值为0）, 按feature执行\n",
    "        samplewise_center=False,  # 使输入数据的每个样本均值为0\n",
    "        featurewise_std_normalization=False,  # 将输入除以数据集的标准差以完成标准化, 按feature执行\n",
    "        samplewise_std_normalization=False,  # 将输入的每个样本除以其自身的标准差\n",
    "        zca_whitening=False,  # 对输入数据施加ZCA白化\n",
    "        rotation_range=10,  # 数据增强时图片随机转动的角度\n",
    "        zoom_range = 0.1, # 随机缩放的幅度\n",
    "        width_shift_range=0.1,  # 图片宽度的某个比例，数据增强时图片水平偏移的幅度\n",
    "        height_shift_range=0.1,  # 图片高度的某个比例，数据增强时图片竖直偏移的幅度\n",
    "        horizontal_flip=False,  # 进行随机水平翻转\n",
    "        vertical_flip=False)  # 进行随机竖直翻转\n"
   ]
  },
  {
   "cell_type": "markdown",
   "metadata": {},
   "source": [
    "### 计算依赖于数据的变换所需要的统计信息(均值方差等"
   ]
  },
  {
   "cell_type": "code",
   "execution_count": 15,
   "metadata": {
    "collapsed": true
   },
   "outputs": [],
   "source": [
    "datagen.fit(X_train)"
   ]
  },
  {
   "cell_type": "markdown",
   "metadata": {},
   "source": [
    "## 3.5.训练模型\n",
    "### fit_generator：利用Python的生成器，逐个生成数据的batch并进行训练。生成器与模型将并行执行以提高效率\n",
    "### datagen.flow（）：生成器函数，接收numpy数组和标签为参数,生成经过数据增强或标准化后的batch数据,并在一个无限循环中不断的返回batch数据\n",
    "### callbacks=[learning_rate_reduction]：回调函数，这个list中的回调函数将会在训练过程中的适当时机被调用\n"
   ]
  },
  {
   "cell_type": "code",
   "execution_count": 18,
   "metadata": {},
   "outputs": [
    {
     "name": "stdout",
     "output_type": "stream",
     "text": [
      "Epoch 1/30\n",
      " - 10s - loss: 0.0352 - acc: 0.9900 - val_loss: 0.0174 - val_acc: 0.9943\n",
      "Epoch 2/30\n",
      " - 10s - loss: 0.0322 - acc: 0.9908 - val_loss: 0.0176 - val_acc: 0.9952\n",
      "Epoch 3/30\n",
      " - 10s - loss: 0.0353 - acc: 0.9895 - val_loss: 0.0177 - val_acc: 0.9950\n",
      "Epoch 4/30\n",
      " - 9s - loss: 0.0320 - acc: 0.9908 - val_loss: 0.0172 - val_acc: 0.9950\n",
      "Epoch 5/30\n",
      " - 9s - loss: 0.0350 - acc: 0.9903 - val_loss: 0.0173 - val_acc: 0.9952\n",
      "Epoch 6/30\n",
      "\n",
      "Epoch 00006: reducing learning rate to 1e-05.\n",
      " - 10s - loss: 0.0346 - acc: 0.9897 - val_loss: 0.0170 - val_acc: 0.9948\n",
      "Epoch 7/30\n",
      " - 10s - loss: 0.0350 - acc: 0.9897 - val_loss: 0.0171 - val_acc: 0.9948\n",
      "Epoch 8/30\n",
      " - 10s - loss: 0.0338 - acc: 0.9907 - val_loss: 0.0170 - val_acc: 0.9950\n",
      "Epoch 9/30\n",
      " - 10s - loss: 0.0355 - acc: 0.9896 - val_loss: 0.0172 - val_acc: 0.9948\n",
      "Epoch 10/30\n",
      " - 9s - loss: 0.0335 - acc: 0.9907 - val_loss: 0.0174 - val_acc: 0.9948\n",
      "Epoch 11/30\n",
      " - 9s - loss: 0.0318 - acc: 0.9903 - val_loss: 0.0171 - val_acc: 0.9948\n",
      "Epoch 12/30\n",
      " - 10s - loss: 0.0348 - acc: 0.9902 - val_loss: 0.0173 - val_acc: 0.9948\n",
      "Epoch 13/30\n",
      " - 10s - loss: 0.0337 - acc: 0.9902 - val_loss: 0.0170 - val_acc: 0.9950\n",
      "Epoch 14/30\n",
      " - 10s - loss: 0.0344 - acc: 0.9902 - val_loss: 0.0172 - val_acc: 0.9948\n",
      "Epoch 15/30\n",
      " - 9s - loss: 0.0339 - acc: 0.9900 - val_loss: 0.0171 - val_acc: 0.9950\n",
      "Epoch 16/30\n",
      " - 10s - loss: 0.0338 - acc: 0.9904 - val_loss: 0.0168 - val_acc: 0.9948\n",
      "Epoch 17/30\n",
      " - 10s - loss: 0.0342 - acc: 0.9902 - val_loss: 0.0166 - val_acc: 0.9950\n",
      "Epoch 18/30\n",
      " - 10s - loss: 0.0358 - acc: 0.9903 - val_loss: 0.0169 - val_acc: 0.9950\n",
      "Epoch 19/30\n",
      " - 9s - loss: 0.0339 - acc: 0.9903 - val_loss: 0.0166 - val_acc: 0.9950\n",
      "Epoch 20/30\n",
      " - 10s - loss: 0.0356 - acc: 0.9903 - val_loss: 0.0166 - val_acc: 0.9950\n",
      "Epoch 21/30\n",
      " - 10s - loss: 0.0350 - acc: 0.9900 - val_loss: 0.0165 - val_acc: 0.9952\n",
      "Epoch 22/30\n",
      " - 10s - loss: 0.0350 - acc: 0.9899 - val_loss: 0.0169 - val_acc: 0.9950\n",
      "Epoch 23/30\n",
      " - 10s - loss: 0.0353 - acc: 0.9898 - val_loss: 0.0171 - val_acc: 0.9948\n",
      "Epoch 24/30\n",
      " - 9s - loss: 0.0325 - acc: 0.9904 - val_loss: 0.0167 - val_acc: 0.9948\n",
      "Epoch 25/30\n",
      " - 10s - loss: 0.0359 - acc: 0.9892 - val_loss: 0.0168 - val_acc: 0.9948\n",
      "Epoch 26/30\n",
      " - 10s - loss: 0.0349 - acc: 0.9901 - val_loss: 0.0163 - val_acc: 0.9948\n",
      "Epoch 27/30\n",
      " - 10s - loss: 0.0328 - acc: 0.9908 - val_loss: 0.0166 - val_acc: 0.9948\n",
      "Epoch 28/30\n",
      " - 10s - loss: 0.0331 - acc: 0.9910 - val_loss: 0.0166 - val_acc: 0.9952\n",
      "Epoch 29/30\n",
      " - 10s - loss: 0.0343 - acc: 0.9903 - val_loss: 0.0173 - val_acc: 0.9943\n",
      "Epoch 30/30\n",
      " - 9s - loss: 0.0346 - acc: 0.9902 - val_loss: 0.0166 - val_acc: 0.9948\n",
      "287\n"
     ]
    }
   ],
   "source": [
    "import datetime\n",
    "starttime = datetime.datetime.now()\n",
    "\n",
    "history = model.fit_generator(datagen.flow(X_train,Y_train, batch_size=batch_size),\n",
    "                              epochs = epochs, validation_data = (X_val,Y_val),\n",
    "                              verbose = 2, steps_per_epoch=X_train.shape[0] // batch_size\n",
    "                              , callbacks=[learning_rate_reduction])\n",
    "\n",
    "endtime = datetime.datetime.now()\n",
    "\n",
    "print ((endtime - starttime).seconds)\n",
    "\n"
   ]
  },
  {
   "cell_type": "markdown",
   "metadata": {
    "collapsed": true
   },
   "source": [
    "## 可以看到准确率大概在0.995左右，训练时间为287s (GPU加速后)"
   ]
  },
  {
   "cell_type": "markdown",
   "metadata": {},
   "source": [
    "### 参考\n",
    "[代码](https://www.kaggle.com/yassineghouzam/introduction-to-cnn-keras-0-997-top-6)\n",
    "\n",
    "\n",
    "[keras文档](https://keras-cn.readthedocs.io/en/latest/)"
   ]
  },
  {
   "cell_type": "code",
   "execution_count": null,
   "metadata": {
    "collapsed": true
   },
   "outputs": [],
   "source": []
  }
 ],
 "metadata": {
  "kernelspec": {
   "display_name": "Python 3",
   "language": "python",
   "name": "python3"
  },
  "language_info": {
   "codemirror_mode": {
    "name": "ipython",
    "version": 3
   },
   "file_extension": ".py",
   "mimetype": "text/x-python",
   "name": "python",
   "nbconvert_exporter": "python",
   "pygments_lexer": "ipython3",
   "version": "3.6.1"
  }
 },
 "nbformat": 4,
 "nbformat_minor": 2
}
